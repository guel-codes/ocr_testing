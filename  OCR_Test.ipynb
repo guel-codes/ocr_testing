{
 "cells": [
  {
   "cell_type": "markdown",
   "id": "tribal-vaccine",
   "metadata": {},
   "source": [
    "# Install Dependencies"
   ]
  },
  {
   "cell_type": "code",
   "execution_count": null,
   "id": "medieval-synthetic",
   "metadata": {},
   "outputs": [],
   "source": [
    "!pip3 install torch==1.10.0+cu102 torchvision==0.11.1+cu102 torchaudio===0.10.0+cu102 -f https://download.pytorch.org/whl/cu102/torch_stable.html\n",
    "!pip install easyocr"
   ]
  },
  {
   "cell_type": "markdown",
   "id": "equivalent-express",
   "metadata": {},
   "source": [
    "# Read in Images or Video"
   ]
  },
  {
   "cell_type": "code",
   "execution_count": null,
   "id": "careful-forward",
   "metadata": {},
   "outputs": [],
   "source": []
  },
  {
   "cell_type": "markdown",
   "id": "human-tennessee",
   "metadata": {},
   "source": [
    "# Draw Results"
   ]
  },
  {
   "cell_type": "code",
   "execution_count": null,
   "id": "alien-electronics",
   "metadata": {},
   "outputs": [],
   "source": []
  },
  {
   "cell_type": "markdown",
   "id": "southeast-cheat",
   "metadata": {},
   "source": [
    "# Edge - Handle Multiple Lines of Characters"
   ]
  },
  {
   "cell_type": "code",
   "execution_count": null,
   "id": "industrial-sharing",
   "metadata": {},
   "outputs": [],
   "source": []
  }
 ],
 "metadata": {
  "kernelspec": {
   "display_name": "Python 3",
   "language": "python",
   "name": "python3"
  },
  "language_info": {
   "codemirror_mode": {
    "name": "ipython",
    "version": 3
   },
   "file_extension": ".py",
   "mimetype": "text/x-python",
   "name": "python",
   "nbconvert_exporter": "python",
   "pygments_lexer": "ipython3",
   "version": "3.9.1"
  }
 },
 "nbformat": 4,
 "nbformat_minor": 5
}
